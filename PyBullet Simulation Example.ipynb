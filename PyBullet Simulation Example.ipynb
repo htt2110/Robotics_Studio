{
 "cells": [
  {
   "cell_type": "markdown",
   "metadata": {},
   "source": [
    "## PyBullet Simulation"
   ]
  },
  {
   "cell_type": "code",
   "execution_count": 1,
   "metadata": {},
   "outputs": [],
   "source": [
    "import pybullet as p\n",
    "import time\n",
    "import pybullet_data \n",
    "from math import sin, cos"
   ]
  },
  {
   "cell_type": "code",
   "execution_count": null,
   "metadata": {},
   "outputs": [],
   "source": [
    "physicsClient= p.connect(p.GUI)#or p.DIRECTfor non-graphical version\n",
    "p.setAdditionalSearchPath(pybullet_data.getDataPath()) #optionally\n",
    "p.setGravity(0,0,-10)\n",
    "planeId= p.loadURDF(\"plane.urdf\")\n",
    "cubeStartPos= [0,0,1]\n",
    "cubeStartOrientation= p.getQuaternionFromEuler([0,0,0])\n",
    "boxId= p.loadURDF(\"midnight.urdf\",cubeStartPos, cubeStartOrientation)\n",
    "joint1 = 3\n",
    "joint2 = 7\n",
    "joint3 = 11\n",
    "joint4 = 15\n",
    "joint5 = 1\n",
    "joint6 = 5\n",
    "joint7 = 9\n",
    "joint8 = 13\n",
    "mode = p.POSITION_CONTROL\n",
    "for i in range (10000):\n",
    "    p.stepSimulation()\n",
    "    p.setJointMotorControl2(boxId, joint1, controlMode=mode, targetPosition=0.6+0.4*cos(i*0.05+0.6)+0.3*cos(i*0.01+0.78))\n",
    "    p.setJointMotorControl2(boxId, joint2, controlMode=mode, targetPosition=0.6+0.4*sin(i*0.05+0.6)+0.3*sin(i*0.01+0.78))\n",
    "    p.setJointMotorControl2(boxId, joint3, controlMode=mode, targetPosition=0.6+0.4*cos(i*0.05+0.6)+0.3*cos(i*0.01+0.78))\n",
    "    p.setJointMotorControl2(boxId, joint4, controlMode=mode, targetPosition=0.6+0.4*sin(i*0.05+0.6)+0.3*sin(i*0.01+0.78))\n",
    "    p.setJointMotorControl2(boxId, joint5, controlMode=mode, targetPosition=0.3+0.4*sin(i*0.05+0.6)+0.3*sin(i*0.01+0.78))\n",
    "    p.setJointMotorControl2(boxId, joint6, controlMode=mode, targetPosition=0.3+0.4*cos(i*0.05+0.6)+0.3*cos(i*0.01+0.78))\n",
    "    p.setJointMotorControl2(boxId, joint7, controlMode=mode, targetPosition=0.3+0.4*sin(i*0.05+0.6)+0.3*sin(i*0.01+0.78))\n",
    "    p.setJointMotorControl2(boxId, joint8, controlMode=mode, targetPosition=0.3+0.4*cos(i*0.05+0.6)+0.3*cos(i*0.01+0.78))\n",
    "    time.sleep(1./500.)\n",
    "    cubePos, cubeOrn= p.getBasePositionAndOrientation(boxId)\n",
    "    print(pos, ori)\n",
    "print(cubePos,cubeOrn)\n",
    "p.disconnect()"
   ]
  },
  {
   "cell_type": "code",
   "execution_count": 3,
   "metadata": {},
   "outputs": [
    {
     "ename": "error",
     "evalue": "Only one local in-process GUI/GUI_SERVER connection allowed. Use DIRECT connection mode or start a separate GUI physics server (ExampleBrowser, App_SharedMemoryPhysics_GUI, App_SharedMemoryPhysics_VR) and connect over SHARED_MEMORY, UDP or TCP instead.",
     "output_type": "error",
     "traceback": [
      "\u001b[1;31m---------------------------------------------------------------------------\u001b[0m",
      "\u001b[1;31merror\u001b[0m                                     Traceback (most recent call last)",
      "\u001b[1;32m<ipython-input-3-ed953c009f05>\u001b[0m in \u001b[0;36m<module>\u001b[1;34m\u001b[0m\n\u001b[1;32m----> 1\u001b[1;33m \u001b[0mphysicsClient\u001b[0m\u001b[1;33m=\u001b[0m \u001b[0mp\u001b[0m\u001b[1;33m.\u001b[0m\u001b[0mconnect\u001b[0m\u001b[1;33m(\u001b[0m\u001b[0mp\u001b[0m\u001b[1;33m.\u001b[0m\u001b[0mGUI\u001b[0m\u001b[1;33m)\u001b[0m\u001b[1;33m\u001b[0m\u001b[1;33m\u001b[0m\u001b[0m\n\u001b[0m\u001b[0;32m      2\u001b[0m \u001b[0mp\u001b[0m\u001b[1;33m.\u001b[0m\u001b[0msetGravity\u001b[0m\u001b[1;33m(\u001b[0m\u001b[1;36m0\u001b[0m\u001b[1;33m,\u001b[0m \u001b[1;36m0\u001b[0m\u001b[1;33m,\u001b[0m \u001b[1;33m-\u001b[0m\u001b[1;36m10\u001b[0m\u001b[1;33m)\u001b[0m\u001b[1;33m\u001b[0m\u001b[1;33m\u001b[0m\u001b[0m\n\u001b[0;32m      3\u001b[0m \u001b[0mangle\u001b[0m \u001b[1;33m=\u001b[0m \u001b[0mp\u001b[0m\u001b[1;33m.\u001b[0m\u001b[0maddUserDebugParameter\u001b[0m\u001b[1;33m(\u001b[0m\u001b[1;34m'Steering'\u001b[0m\u001b[1;33m,\u001b[0m \u001b[1;33m-\u001b[0m\u001b[1;36m0.5\u001b[0m\u001b[1;33m,\u001b[0m \u001b[1;36m0.5\u001b[0m\u001b[1;33m,\u001b[0m \u001b[1;36m0\u001b[0m\u001b[1;33m)\u001b[0m\u001b[1;33m\u001b[0m\u001b[1;33m\u001b[0m\u001b[0m\n\u001b[0;32m      4\u001b[0m \u001b[0mthrottle\u001b[0m \u001b[1;33m=\u001b[0m \u001b[0mp\u001b[0m\u001b[1;33m.\u001b[0m\u001b[0maddUserDebugParameter\u001b[0m\u001b[1;33m(\u001b[0m\u001b[1;34m'Throttle'\u001b[0m\u001b[1;33m,\u001b[0m \u001b[1;36m0\u001b[0m\u001b[1;33m,\u001b[0m \u001b[1;36m20\u001b[0m\u001b[1;33m,\u001b[0m \u001b[1;36m0\u001b[0m\u001b[1;33m)\u001b[0m\u001b[1;33m\u001b[0m\u001b[1;33m\u001b[0m\u001b[0m\n\u001b[0;32m      5\u001b[0m \u001b[0mrobot\u001b[0m \u001b[1;33m=\u001b[0m \u001b[0mp\u001b[0m\u001b[1;33m.\u001b[0m\u001b[0mloadURDF\u001b[0m\u001b[1;33m(\u001b[0m\u001b[1;34m'midnight.urdf'\u001b[0m\u001b[1;33m,\u001b[0m \u001b[1;33m[\u001b[0m\u001b[1;36m0\u001b[0m\u001b[1;33m,\u001b[0m \u001b[1;36m0\u001b[0m\u001b[1;33m,\u001b[0m \u001b[1;36m1\u001b[0m\u001b[1;33m]\u001b[0m\u001b[1;33m)\u001b[0m\u001b[1;33m\u001b[0m\u001b[1;33m\u001b[0m\u001b[0m\n",
      "\u001b[1;31merror\u001b[0m: Only one local in-process GUI/GUI_SERVER connection allowed. Use DIRECT connection mode or start a separate GUI physics server (ExampleBrowser, App_SharedMemoryPhysics_GUI, App_SharedMemoryPhysics_VR) and connect over SHARED_MEMORY, UDP or TCP instead."
     ]
    }
   ],
   "source": [
    "physicsClient= p.connect(p.GUI)\n",
    "p.setGravity(0, 0, -10)\n",
    "angle = p.addUserDebugParameter('Steering', -0.5, 0.5, 0)\n",
    "throttle = p.addUserDebugParameter('Throttle', 0, 20, 0)\n",
    "robot = p.loadURDF('midnight.urdf', [0, 0, 1])\n",
    "\n",
    "time.sleep(3)"
   ]
  },
  {
   "cell_type": "code",
   "execution_count": null,
   "metadata": {},
   "outputs": [],
   "source": []
  }
 ],
 "metadata": {
  "kernelspec": {
   "display_name": "Python 3",
   "language": "python",
   "name": "python3"
  },
  "language_info": {
   "codemirror_mode": {
    "name": "ipython",
    "version": 3
   },
   "file_extension": ".py",
   "mimetype": "text/x-python",
   "name": "python",
   "nbconvert_exporter": "python",
   "pygments_lexer": "ipython3",
   "version": "3.8.3"
  }
 },
 "nbformat": 4,
 "nbformat_minor": 4
}
